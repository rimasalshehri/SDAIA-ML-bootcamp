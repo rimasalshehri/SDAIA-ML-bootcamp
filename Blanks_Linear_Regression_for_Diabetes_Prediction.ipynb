{
  "nbformat": 4,
  "nbformat_minor": 0,
  "metadata": {
    "colab": {
      "provenance": []
    },
    "kernelspec": {
      "name": "python3",
      "display_name": "Python 3"
    },
    "language_info": {
      "name": "python"
    }
  },
  "cells": [
    {
      "cell_type": "markdown",
      "source": [
        "# Linear Regression for Diabetes Prediction"
      ],
      "metadata": {
        "id": "fiLLIF-BYvN-"
      }
    },
    {
      "cell_type": "markdown",
      "source": [
        "## Data Description\n",
        "The \"Diabetes\" dataset is a built-in dataset in scikit-learn that consists of physiological and diagnostic measurements related to diabetes disease. It comprises ten numerical features, including:\n",
        "\n",
        "- Age: Age in years.\n",
        "- Sex: Male (1) or female (0).\n",
        "- Body Mass Index (BMI): Body mass index, which relates weight to height.\n",
        "- Average Blood Pressure (BP): Mean arterial blood pressure.\n",
        "- S1 to S6: Six blood serum measurements. These are numerical features representing various biochemical markers."
      ],
      "metadata": {
        "id": "c2F1zCm-YzvA"
      }
    },
    {
      "cell_type": "code",
      "execution_count": null,
      "metadata": {
        "id": "94-j7NdSULxD"
      },
      "outputs": [],
      "source": [
        "import pandas as pd\n",
        "from sklearn.datasets import load_diabetes\n",
        "\n",
        "# Load the Diabetes dataset\n",
        "\n"
      ]
    },
    {
      "cell_type": "markdown",
      "source": [
        "The target variable is a quantitative measure of disease progression one year after the baseline measurements were taken. It represents a numerical value indicating the severity or progression of diabetes disease."
      ],
      "metadata": {
        "id": "0d2MQIDEZHcN"
      }
    },
    {
      "cell_type": "code",
      "source": [
        "\n",
        "\n",
        "# Create a DataFrame from the dataset\n",
        "\n",
        "\n",
        "\n",
        "\n",
        "df"
      ],
      "metadata": {
        "id": "N4ri_wo3ZE0i"
      },
      "execution_count": null,
      "outputs": []
    },
    {
      "cell_type": "markdown",
      "source": [
        "**Question 1:** Why is the prediction of target output, disease progression, a regression task?\n",
        "\n",
        "Because it is a numerical feature that can take infinite possible values"
      ],
      "metadata": {
        "id": "R5TIpX8iZLu-"
      }
    },
    {
      "cell_type": "markdown",
      "source": [
        "## Split Data"
      ],
      "metadata": {
        "id": "x8uPHuEOZwxR"
      }
    },
    {
      "cell_type": "code",
      "source": [
        "\n",
        "from sklearn.linear_model import LinearRegression\n",
        "from sklearn.model_selection import train_test_split\n",
        "\n"
      ],
      "metadata": {
        "id": "iXA_yc3sZuwi"
      },
      "execution_count": null,
      "outputs": []
    },
    {
      "cell_type": "markdown",
      "source": [
        "**Question 2:**\n",
        "- Split the data into features (X) and target (y)\n",
        "\n",
        "- Split the data between training and testing with a ratio of 80/20"
      ],
      "metadata": {
        "id": "P5lVe1n5ZuPt"
      }
    },
    {
      "cell_type": "code",
      "source": [
        "# Split the data into features (X) and target (y)\n",
        "\n",
        "\n",
        "# Split the data into training and test\n",
        "\n"
      ],
      "metadata": {
        "id": "XYj-CMxJY-Li"
      },
      "execution_count": null,
      "outputs": []
    },
    {
      "cell_type": "markdown",
      "source": [
        "**Question 3:**\n",
        "- Is the model you aim to train linear or multi-linear?\n",
        "- Train a linear regression model"
      ],
      "metadata": {
        "id": "5fiTEYApaB-X"
      }
    },
    {
      "cell_type": "markdown",
      "source": [
        "**Analysis**"
      ],
      "metadata": {
        "id": "IuTSzzCaaREI"
      }
    },
    {
      "cell_type": "code",
      "source": [
        "\n",
        "# Fit a linear regression model\n",
        "\n"
      ],
      "metadata": {
        "id": "WTzil5HaaBhP"
      },
      "execution_count": null,
      "outputs": []
    },
    {
      "cell_type": "markdown",
      "source": [
        "**Question 4:**\n",
        "- Make prediction on the test set\n",
        "- Calculate a metric known as r2-score"
      ],
      "metadata": {
        "id": "2Fho3CTIaZt4"
      }
    },
    {
      "cell_type": "code",
      "source": [
        "# Make predictions on the test set\n",
        "\n",
        "\n",
        "\n",
        "# Calculate the R-squared score\n",
        "\n",
        "\n"
      ],
      "metadata": {
        "id": "6Qn4i5RMaYq_"
      },
      "execution_count": null,
      "outputs": []
    }
  ]
}