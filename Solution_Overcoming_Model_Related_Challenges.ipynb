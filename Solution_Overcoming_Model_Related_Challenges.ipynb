{
  "nbformat": 4,
  "nbformat_minor": 0,
  "metadata": {
    "colab": {
      "provenance": [],
      "toc_visible": true
    },
    "kernelspec": {
      "name": "python3",
      "display_name": "Python 3"
    }
  },
  "cells": [
    {
      "cell_type": "markdown",
      "metadata": {
        "id": "h4kIOHYlnyqs"
      },
      "source": [
        "#**Evaluating & Improving ML models**\n",
        "\n",
        "Case Study: Titanic Survival\n",
        "\n",
        "**Objective:** The objective of this notebook is to walk you through several concepts that we discussed through the course for evaluating and improving ML models. You will be building and evaluating several models that will predict if a person survived or not during the Titanic incidence."
      ]
    },
    {
      "cell_type": "markdown",
      "metadata": {
        "id": "HGj1r3fxojSr"
      },
      "source": [
        "The titanic.csv file contains data for 891 of the original Titanic passengers. Each row represents one person. The columns describe different attributes about the person including:\n",
        "* whether they survived (S),\n",
        "* their age (A),\n",
        "* their passenger-class (C),\n",
        "* their gender (G),\n",
        "* the fare they paid (X)."
      ]
    },
    {
      "cell_type": "markdown",
      "metadata": {
        "id": "C9RdVLjpk-hN"
      },
      "source": [
        "#Section 1: Data Preparation"
      ]
    },
    {
      "cell_type": "markdown",
      "metadata": {
        "id": "2igl0cIT61t-"
      },
      "source": [
        "## Importing Needed Libraries:\n",
        "\n",
        "* numpy: for scientific computing\n",
        "* matplot: for plotting and visualization\n",
        "* pandas: for data reading and manipulation\n",
        "\n",
        "\n",
        "\n"
      ]
    },
    {
      "cell_type": "code",
      "metadata": {
        "id": "HHL2azdc06yo"
      },
      "source": [
        "import numpy as np\n",
        "import matplotlib.pyplot as plt\n",
        "import pandas as pd\n",
        "\n",
        "from sklearn.metrics import accuracy_score"
      ],
      "execution_count": null,
      "outputs": []
    },
    {
      "cell_type": "markdown",
      "metadata": {
        "id": "Q6CWiia2DtZo"
      },
      "source": [
        "## Importing the Data\n"
      ]
    },
    {
      "cell_type": "code",
      "metadata": {
        "colab": {
          "base_uri": "https://localhost:8080/",
          "height": 206
        },
        "id": "Qzoy0u4CQ8bN",
        "outputId": "687208df-adcf-4ffb-e1d6-1759380f5ac2"
      },
      "source": [
        "\n",
        "# Load the Titanic dataset into a DataFrame\n",
        "data = pd.read_csv('https://raw.githubusercontent.com/datasciencedojo/datasets/master/titanic.csv')\n",
        "\n",
        "data.head()\n",
        "\n",
        "#Gets the specific data we need for our prediction\n",
        "df = pd.DataFrame(data, columns= ['Survived', 'Pclass', 'Name', 'Age', 'Sex', 'Fare'])\n",
        "df.replace(('male', 'female'), (0, 1), inplace=True) #Male is 0, Female is 1\n",
        "df.head() #Prints the first 5 rows of the data"
      ],
      "execution_count": null,
      "outputs": [
        {
          "output_type": "execute_result",
          "data": {
            "text/plain": [
              "   Survived  Pclass                                               Name   Age  \\\n",
              "0         0       3                            Braund, Mr. Owen Harris  22.0   \n",
              "1         1       1  Cumings, Mrs. John Bradley (Florence Briggs Th...  38.0   \n",
              "2         1       3                             Heikkinen, Miss. Laina  26.0   \n",
              "3         1       1       Futrelle, Mrs. Jacques Heath (Lily May Peel)  35.0   \n",
              "4         0       3                           Allen, Mr. William Henry  35.0   \n",
              "\n",
              "   Sex     Fare  \n",
              "0    0   7.2500  \n",
              "1    1  71.2833  \n",
              "2    1   7.9250  \n",
              "3    1  53.1000  \n",
              "4    0   8.0500  "
            ],
            "text/html": [
              "\n",
              "\n",
              "  <div id=\"df-8458f569-ea6d-4b06-ac56-4d268fb2f6ff\">\n",
              "    <div class=\"colab-df-container\">\n",
              "      <div>\n",
              "<style scoped>\n",
              "    .dataframe tbody tr th:only-of-type {\n",
              "        vertical-align: middle;\n",
              "    }\n",
              "\n",
              "    .dataframe tbody tr th {\n",
              "        vertical-align: top;\n",
              "    }\n",
              "\n",
              "    .dataframe thead th {\n",
              "        text-align: right;\n",
              "    }\n",
              "</style>\n",
              "<table border=\"1\" class=\"dataframe\">\n",
              "  <thead>\n",
              "    <tr style=\"text-align: right;\">\n",
              "      <th></th>\n",
              "      <th>Survived</th>\n",
              "      <th>Pclass</th>\n",
              "      <th>Name</th>\n",
              "      <th>Age</th>\n",
              "      <th>Sex</th>\n",
              "      <th>Fare</th>\n",
              "    </tr>\n",
              "  </thead>\n",
              "  <tbody>\n",
              "    <tr>\n",
              "      <th>0</th>\n",
              "      <td>0</td>\n",
              "      <td>3</td>\n",
              "      <td>Braund, Mr. Owen Harris</td>\n",
              "      <td>22.0</td>\n",
              "      <td>0</td>\n",
              "      <td>7.2500</td>\n",
              "    </tr>\n",
              "    <tr>\n",
              "      <th>1</th>\n",
              "      <td>1</td>\n",
              "      <td>1</td>\n",
              "      <td>Cumings, Mrs. John Bradley (Florence Briggs Th...</td>\n",
              "      <td>38.0</td>\n",
              "      <td>1</td>\n",
              "      <td>71.2833</td>\n",
              "    </tr>\n",
              "    <tr>\n",
              "      <th>2</th>\n",
              "      <td>1</td>\n",
              "      <td>3</td>\n",
              "      <td>Heikkinen, Miss. Laina</td>\n",
              "      <td>26.0</td>\n",
              "      <td>1</td>\n",
              "      <td>7.9250</td>\n",
              "    </tr>\n",
              "    <tr>\n",
              "      <th>3</th>\n",
              "      <td>1</td>\n",
              "      <td>1</td>\n",
              "      <td>Futrelle, Mrs. Jacques Heath (Lily May Peel)</td>\n",
              "      <td>35.0</td>\n",
              "      <td>1</td>\n",
              "      <td>53.1000</td>\n",
              "    </tr>\n",
              "    <tr>\n",
              "      <th>4</th>\n",
              "      <td>0</td>\n",
              "      <td>3</td>\n",
              "      <td>Allen, Mr. William Henry</td>\n",
              "      <td>35.0</td>\n",
              "      <td>0</td>\n",
              "      <td>8.0500</td>\n",
              "    </tr>\n",
              "  </tbody>\n",
              "</table>\n",
              "</div>\n",
              "      <button class=\"colab-df-convert\" onclick=\"convertToInteractive('df-8458f569-ea6d-4b06-ac56-4d268fb2f6ff')\"\n",
              "              title=\"Convert this dataframe to an interactive table.\"\n",
              "              style=\"display:none;\">\n",
              "\n",
              "  <svg xmlns=\"http://www.w3.org/2000/svg\" height=\"24px\"viewBox=\"0 0 24 24\"\n",
              "       width=\"24px\">\n",
              "    <path d=\"M0 0h24v24H0V0z\" fill=\"none\"/>\n",
              "    <path d=\"M18.56 5.44l.94 2.06.94-2.06 2.06-.94-2.06-.94-.94-2.06-.94 2.06-2.06.94zm-11 1L8.5 8.5l.94-2.06 2.06-.94-2.06-.94L8.5 2.5l-.94 2.06-2.06.94zm10 10l.94 2.06.94-2.06 2.06-.94-2.06-.94-.94-2.06-.94 2.06-2.06.94z\"/><path d=\"M17.41 7.96l-1.37-1.37c-.4-.4-.92-.59-1.43-.59-.52 0-1.04.2-1.43.59L10.3 9.45l-7.72 7.72c-.78.78-.78 2.05 0 2.83L4 21.41c.39.39.9.59 1.41.59.51 0 1.02-.2 1.41-.59l7.78-7.78 2.81-2.81c.8-.78.8-2.07 0-2.86zM5.41 20L4 18.59l7.72-7.72 1.47 1.35L5.41 20z\"/>\n",
              "  </svg>\n",
              "      </button>\n",
              "\n",
              "\n",
              "\n",
              "    <div id=\"df-be3726f1-8329-45af-81df-7d6e1ec637aa\">\n",
              "      <button class=\"colab-df-quickchart\" onclick=\"quickchart('df-be3726f1-8329-45af-81df-7d6e1ec637aa')\"\n",
              "              title=\"Suggest charts.\"\n",
              "              style=\"display:none;\">\n",
              "\n",
              "<svg xmlns=\"http://www.w3.org/2000/svg\" height=\"24px\"viewBox=\"0 0 24 24\"\n",
              "     width=\"24px\">\n",
              "    <g>\n",
              "        <path d=\"M19 3H5c-1.1 0-2 .9-2 2v14c0 1.1.9 2 2 2h14c1.1 0 2-.9 2-2V5c0-1.1-.9-2-2-2zM9 17H7v-7h2v7zm4 0h-2V7h2v10zm4 0h-2v-4h2v4z\"/>\n",
              "    </g>\n",
              "</svg>\n",
              "      </button>\n",
              "    </div>\n",
              "\n",
              "<style>\n",
              "  .colab-df-quickchart {\n",
              "    background-color: #E8F0FE;\n",
              "    border: none;\n",
              "    border-radius: 50%;\n",
              "    cursor: pointer;\n",
              "    display: none;\n",
              "    fill: #1967D2;\n",
              "    height: 32px;\n",
              "    padding: 0 0 0 0;\n",
              "    width: 32px;\n",
              "  }\n",
              "\n",
              "  .colab-df-quickchart:hover {\n",
              "    background-color: #E2EBFA;\n",
              "    box-shadow: 0px 1px 2px rgba(60, 64, 67, 0.3), 0px 1px 3px 1px rgba(60, 64, 67, 0.15);\n",
              "    fill: #174EA6;\n",
              "  }\n",
              "\n",
              "  [theme=dark] .colab-df-quickchart {\n",
              "    background-color: #3B4455;\n",
              "    fill: #D2E3FC;\n",
              "  }\n",
              "\n",
              "  [theme=dark] .colab-df-quickchart:hover {\n",
              "    background-color: #434B5C;\n",
              "    box-shadow: 0px 1px 3px 1px rgba(0, 0, 0, 0.15);\n",
              "    filter: drop-shadow(0px 1px 2px rgba(0, 0, 0, 0.3));\n",
              "    fill: #FFFFFF;\n",
              "  }\n",
              "</style>\n",
              "\n",
              "    <script>\n",
              "      async function quickchart(key) {\n",
              "        const containerElement = document.querySelector('#' + key);\n",
              "        const charts = await google.colab.kernel.invokeFunction(\n",
              "            'suggestCharts', [key], {});\n",
              "      }\n",
              "    </script>\n",
              "\n",
              "      <script>\n",
              "\n",
              "function displayQuickchartButton(domScope) {\n",
              "  let quickchartButtonEl =\n",
              "    domScope.querySelector('#df-be3726f1-8329-45af-81df-7d6e1ec637aa button.colab-df-quickchart');\n",
              "  quickchartButtonEl.style.display =\n",
              "    google.colab.kernel.accessAllowed ? 'block' : 'none';\n",
              "}\n",
              "\n",
              "        displayQuickchartButton(document);\n",
              "      </script>\n",
              "      <style>\n",
              "    .colab-df-container {\n",
              "      display:flex;\n",
              "      flex-wrap:wrap;\n",
              "      gap: 12px;\n",
              "    }\n",
              "\n",
              "    .colab-df-convert {\n",
              "      background-color: #E8F0FE;\n",
              "      border: none;\n",
              "      border-radius: 50%;\n",
              "      cursor: pointer;\n",
              "      display: none;\n",
              "      fill: #1967D2;\n",
              "      height: 32px;\n",
              "      padding: 0 0 0 0;\n",
              "      width: 32px;\n",
              "    }\n",
              "\n",
              "    .colab-df-convert:hover {\n",
              "      background-color: #E2EBFA;\n",
              "      box-shadow: 0px 1px 2px rgba(60, 64, 67, 0.3), 0px 1px 3px 1px rgba(60, 64, 67, 0.15);\n",
              "      fill: #174EA6;\n",
              "    }\n",
              "\n",
              "    [theme=dark] .colab-df-convert {\n",
              "      background-color: #3B4455;\n",
              "      fill: #D2E3FC;\n",
              "    }\n",
              "\n",
              "    [theme=dark] .colab-df-convert:hover {\n",
              "      background-color: #434B5C;\n",
              "      box-shadow: 0px 1px 3px 1px rgba(0, 0, 0, 0.15);\n",
              "      filter: drop-shadow(0px 1px 2px rgba(0, 0, 0, 0.3));\n",
              "      fill: #FFFFFF;\n",
              "    }\n",
              "  </style>\n",
              "\n",
              "      <script>\n",
              "        const buttonEl =\n",
              "          document.querySelector('#df-8458f569-ea6d-4b06-ac56-4d268fb2f6ff button.colab-df-convert');\n",
              "        buttonEl.style.display =\n",
              "          google.colab.kernel.accessAllowed ? 'block' : 'none';\n",
              "\n",
              "        async function convertToInteractive(key) {\n",
              "          const element = document.querySelector('#df-8458f569-ea6d-4b06-ac56-4d268fb2f6ff');\n",
              "          const dataTable =\n",
              "            await google.colab.kernel.invokeFunction('convertToInteractive',\n",
              "                                                     [key], {});\n",
              "          if (!dataTable) return;\n",
              "\n",
              "          const docLinkHtml = 'Like what you see? Visit the ' +\n",
              "            '<a target=\"_blank\" href=https://colab.research.google.com/notebooks/data_table.ipynb>data table notebook</a>'\n",
              "            + ' to learn more about interactive tables.';\n",
              "          element.innerHTML = '';\n",
              "          dataTable['output_type'] = 'display_data';\n",
              "          await google.colab.output.renderOutput(dataTable, element);\n",
              "          const docLink = document.createElement('div');\n",
              "          docLink.innerHTML = docLinkHtml;\n",
              "          element.appendChild(docLink);\n",
              "        }\n",
              "      </script>\n",
              "    </div>\n",
              "  </div>\n"
            ]
          },
          "metadata": {},
          "execution_count": 2
        }
      ]
    },
    {
      "cell_type": "markdown",
      "metadata": {
        "id": "VwNidHnCabf9"
      },
      "source": [
        "Know the shape of the data"
      ]
    },
    {
      "cell_type": "code",
      "metadata": {
        "colab": {
          "base_uri": "https://localhost:8080/"
        },
        "id": "zE57ADo7adjN",
        "outputId": "e2178c31-8b5a-470f-d822-398c5ae18797"
      },
      "source": [
        "df.shape"
      ],
      "execution_count": null,
      "outputs": [
        {
          "output_type": "execute_result",
          "data": {
            "text/plain": [
              "(891, 6)"
            ]
          },
          "metadata": {},
          "execution_count": 3
        }
      ]
    },
    {
      "cell_type": "markdown",
      "metadata": {
        "id": "nANZ53JMFiEI"
      },
      "source": [
        "## Data PreProcessing:\n"
      ]
    },
    {
      "cell_type": "markdown",
      "metadata": {
        "id": "rsQJgQYaaJ-9"
      },
      "source": [
        "Check for null values"
      ]
    },
    {
      "cell_type": "code",
      "metadata": {
        "colab": {
          "base_uri": "https://localhost:8080/"
        },
        "id": "820XhvxZaLzV",
        "outputId": "d15bf4ca-0ffd-41a6-a48b-0d0c57695664"
      },
      "source": [
        "print(df.isnull().sum())"
      ],
      "execution_count": null,
      "outputs": [
        {
          "output_type": "stream",
          "name": "stdout",
          "text": [
            "Survived      0\n",
            "Pclass        0\n",
            "Name          0\n",
            "Age         177\n",
            "Sex           0\n",
            "Fare          0\n",
            "dtype: int64\n"
          ]
        }
      ]
    },
    {
      "cell_type": "markdown",
      "metadata": {
        "id": "rNu6p2adaCQc"
      },
      "source": [
        "Filling the null values"
      ]
    },
    {
      "cell_type": "code",
      "metadata": {
        "id": "DkXzusPraEPe"
      },
      "source": [
        "df['Age'].fillna(value = df['Age'].mean(), inplace=True)"
      ],
      "execution_count": null,
      "outputs": []
    },
    {
      "cell_type": "code",
      "metadata": {
        "colab": {
          "base_uri": "https://localhost:8080/"
        },
        "id": "lioNRsKFasik",
        "outputId": "268a5cfa-8e84-4061-abaf-7df1dc7f0046"
      },
      "source": [
        "print(df.isnull().sum()) #make sure all nulls are removed"
      ],
      "execution_count": null,
      "outputs": [
        {
          "output_type": "stream",
          "name": "stdout",
          "text": [
            "Survived    0\n",
            "Pclass      0\n",
            "Name        0\n",
            "Age         0\n",
            "Sex         0\n",
            "Fare        0\n",
            "dtype: int64\n"
          ]
        }
      ]
    },
    {
      "cell_type": "markdown",
      "metadata": {
        "id": "zbv_gOVnaA3n"
      },
      "source": [
        "Data preprocessing involves dividing the data into attributes and labels."
      ]
    },
    {
      "cell_type": "code",
      "metadata": {
        "id": "HVx-78YZFC6O"
      },
      "source": [
        "x = df.drop(['Survived', 'Name'], axis = 1) #all the columns except the Name of the person and the target columns are being removed from the features data\n",
        "y = df['Survived']"
      ],
      "execution_count": null,
      "outputs": []
    },
    {
      "cell_type": "markdown",
      "metadata": {
        "id": "8xpCppgJlpfr"
      },
      "source": [
        "#Section 2: Fitting & Improving ML Models"
      ]
    },
    {
      "cell_type": "markdown",
      "metadata": {
        "id": "l5QrqnI_l_eN"
      },
      "source": [
        "Now we will explore some techniques that will help us to improve the performance of our ML models."
      ]
    },
    {
      "cell_type": "markdown",
      "metadata": {
        "id": "qL_Sx3rnqsdh"
      },
      "source": [
        "##Checking for Imbalanced Data"
      ]
    },
    {
      "cell_type": "code",
      "metadata": {
        "colab": {
          "base_uri": "https://localhost:8080/",
          "height": 447
        },
        "id": "H6RybWwhcTMq",
        "outputId": "1ef10008-2dfd-41f5-f29a-64f08f6432b4"
      },
      "source": [
        "df['Survived'].hist()"
      ],
      "execution_count": null,
      "outputs": [
        {
          "output_type": "execute_result",
          "data": {
            "text/plain": [
              "<Axes: >"
            ]
          },
          "metadata": {},
          "execution_count": 8
        },
        {
          "output_type": "display_data",
          "data": {
            "text/plain": [
              "<Figure size 640x480 with 1 Axes>"
            ],
            "image/png": "[encoded data removed]"
          },
          "metadata": {}
        }
      ]
    },
    {
      "cell_type": "markdown",
      "metadata": {
        "id": "2ZZIPR7SR_Uz"
      },
      "source": [
        "Let's say we want to fit on this imbalanced dataset a Logistic Regression model."
      ]
    },
    {
      "cell_type": "code",
      "metadata": {
        "colab": {
          "base_uri": "https://localhost:8080/"
        },
        "id": "7jrhHvKAv_Ea",
        "outputId": "967d4073-3a8d-4387-8730-91435eb39d04"
      },
      "source": [
        "from sklearn.model_selection import cross_validate\n",
        "from sklearn.linear_model import LogisticRegression\n",
        "\n",
        "model = LogisticRegression()\n",
        "scores = cross_validate(model, x, y, cv=3, scoring=['accuracy','precision', 'recall', 'f1_macro'])\n",
        "\n",
        "accuracy_1 = scores.get('test_accuracy').mean()\n",
        "precision_1 = scores.get('test_precision').mean()\n",
        "recall_1 = scores.get('test_recall').mean()\n",
        "f1_1 = scores.get('test_f1_macro').mean()\n",
        "\n",
        "print(\"Accuracy:\", accuracy_1,\n",
        "      \"\\nPrecision:\",precision_1,\n",
        "      \"\\nRecall:\", recall_1,\n",
        "      \"\\nF1 Score:\", f1_1)"
      ],
      "execution_count": null,
      "outputs": [
        {
          "output_type": "stream",
          "name": "stdout",
          "text": [
            "Accuracy: 0.7867564534231201 \n",
            "Precision: 0.7345930585804957 \n",
            "Recall: 0.7017543859649124 \n",
            "F1 Score: 0.7723014381369065\n"
          ]
        }
      ]
    },
    {
      "cell_type": "markdown",
      "metadata": {
        "id": "s28aOFYBXumW"
      },
      "source": [
        "Let's try to oversample our minority class (Survived) and train the model again:"
      ]
    },
    {
      "cell_type": "code",
      "metadata": {
        "id": "rc2za7htG4xP"
      },
      "source": [
        "from imblearn.over_sampling import RandomOverSampler\n",
        "\n",
        "over = RandomOverSampler(sampling_strategy= 1) #sampling_strategy= 1 means I want both classes to have equal number of samples\n",
        "x_new, y_new = over.fit_resample(x, y)"
      ],
      "execution_count": null,
      "outputs": []
    },
    {
      "cell_type": "markdown",
      "metadata": {
        "id": "Wme55lxiss9G"
      },
      "source": [
        "Check the performance of our model after we have a balanced dataset:"
      ]
    },
    {
      "cell_type": "code",
      "metadata": {
        "colab": {
          "base_uri": "https://localhost:8080/"
        },
        "id": "fVkQWljdr4w5",
        "outputId": "e2f95bd8-fbe8-4c56-a514-7c31237b21f2"
      },
      "source": [
        "from sklearn.model_selection import cross_validate\n",
        "\n",
        "model = LogisticRegression()\n",
        "scores = cross_validate(model, x_new, y_new, cv=3, scoring=['accuracy','precision', 'recall', 'f1_macro'])\n",
        "\n",
        "accuracy_2 = scores.get('test_accuracy').mean()\n",
        "precision_2 = scores.get('test_precision').mean()\n",
        "recall_2 = scores.get('test_recall').mean()\n",
        "f1_2 = scores.get('test_f1_macro').mean()\n",
        "\n",
        "print(\"Accuracy:\", accuracy_2,\n",
        "      \"\\nPrecision:\",precision_2,\n",
        "      \"\\nRecall:\", recall_2,\n",
        "      \"\\nF1 Score:\", f1_2)"
      ],
      "execution_count": null,
      "outputs": [
        {
          "output_type": "stream",
          "name": "stdout",
          "text": [
            "Accuracy: 0.7887067395264116 \n",
            "Precision: 0.7827453947019164 \n",
            "Recall: 0.7996357012750455 \n",
            "F1 Score: 0.7886311922066825\n"
          ]
        }
      ]
    },
    {
      "cell_type": "markdown",
      "metadata": {
        "id": "ZyqjJg2gx0cZ"
      },
      "source": [
        "We can see the improved effect of balancing the data on the precision, recall, and f1-score terms!!"
      ]
    },
    {
      "cell_type": "markdown",
      "metadata": {
        "id": "pRH5-P0XjeN8"
      },
      "source": [
        "##Random Forest Classifier"
      ]
    },
    {
      "cell_type": "markdown",
      "metadata": {
        "id": "n7wAFo-nlSOw"
      },
      "source": [
        "Let's try to improve our model a bit by using an ensemble method - the Decision/Random Forest.\n",
        "\n",
        "A Decision Forest (or Random Forest) is an ensemble method relying on the aggregate predictions of several trees instead of one tree only. It belongs to the class of bagging ensemble methods.  "
      ]
    },
    {
      "cell_type": "code",
      "metadata": {
        "colab": {
          "base_uri": "https://localhost:8080/"
        },
        "id": "YIguDozsjgzu",
        "outputId": "49f59a5c-2f2d-46f4-f5ce-d6ccdbdc2e08"
      },
      "source": [
        "from sklearn.ensemble import RandomForestClassifier\n",
        "\n",
        "model = RandomForestClassifier(n_estimators= 100) #100 trees participating in the aggregate prediction\n",
        "scores = cross_validate(model, x_new, y_new, cv=3, scoring=['accuracy','precision', 'recall', 'f1_macro'])\n",
        "\n",
        "accuracy_3 = scores.get('test_accuracy').mean()\n",
        "precision_3 = scores.get('test_precision').mean()\n",
        "recall_3 = scores.get('test_recall').mean()\n",
        "f1_3 = scores.get('test_f1_macro').mean()\n",
        "\n",
        "print(\"Accuracy:\", accuracy_3,\n",
        "      \"\\nPrecision:\",precision_3,\n",
        "      \"\\nRecall:\", recall_3,\n",
        "      \"\\nF1 Score:\", f1_3)"
      ],
      "execution_count": null,
      "outputs": [
        {
          "output_type": "stream",
          "name": "stdout",
          "text": [
            "Accuracy: 0.8715846994535519 \n",
            "Precision: 0.8466378534701516 \n",
            "Recall: 0.907103825136612 \n",
            "F1 Score: 0.8713940981253284\n"
          ]
        }
      ]
    },
    {
      "cell_type": "markdown",
      "metadata": {
        "id": "3fBizhYCY8u2"
      },
      "source": [
        "After applying Random Forests to our balanced dataset, we can see an improvement in performance in both the precision and F1 scores!\n",
        "\n",
        "Of course, there are many more improvements we can explore. It might also be useful to run more in depth EDA so we can choose the best & most effective improvement techniques for our problem and dataset."
      ]
    }
  ]
}