{
  "nbformat": 4,
  "nbformat_minor": 0,
  "metadata": {
    "colab": {
      "provenance": []
    },
    "kernelspec": {
      "name": "python3",
      "display_name": "Python 3"
    },
    "language_info": {
      "name": "python"
    }
  },
  "cells": [
    {
      "cell_type": "markdown",
      "source": [
        "#Case Study: House Price\n",
        "\n",
        "The dataset represents a synthetic collection of house-related features and their corresponding prices. It contains 1000 samples, with each sample having the following features:\n",
        "\n",
        "- Size: The size of the house\n",
        "- Bedrooms: The number of bedrooms in the house\n",
        "- Bathrooms: The number of bathrooms in the house\n",
        "- Location: A feature representing the location of the house\n",
        "- YearBuilt: The year the house was built\n",
        "- RoofType: The type of roof on the house\n",
        "- Price: The price of the house"
      ],
      "metadata": {
        "id": "G5m3nvD2mt2J"
      }
    },
    {
      "cell_type": "markdown",
      "source": [
        "## Load and Explore the Dataset"
      ],
      "metadata": {
        "id": "VXzc7u7CnLYL"
      }
    },
    {
      "cell_type": "code",
      "source": [
        "import pandas as pd\n",
        "df = pd.read_csv('/content/house_prices_dataset.csv')\n",
        "df"
      ],
      "metadata": {
        "id": "UbJKu2TunPIa"
      },
      "execution_count": null,
      "outputs": []
    },
    {
      "cell_type": "markdown",
      "source": [
        "Let's explore the dataset to better know what we're dealing with"
      ],
      "metadata": {
        "id": "iEqIDMqynhFj"
      }
    },
    {
      "cell_type": "code",
      "source": [
        "# Question 1:\n",
        "# Get the shape of the dataset\n",
        "\n",
        "\n",
        "# Check the data types of the columns\n",
        "\n"
      ],
      "metadata": {
        "id": "B7_mD1cxnga1"
      },
      "execution_count": null,
      "outputs": []
    },
    {
      "cell_type": "markdown",
      "source": [
        "## Deeper Exploration"
      ],
      "metadata": {
        "id": "5_Fu1UJPnyTs"
      }
    },
    {
      "cell_type": "code",
      "source": [
        "import matplotlib.pyplot as plt\n",
        "import seaborn as sns\n",
        "\n",
        "# Question 2:\n",
        "# Check for missing values\n",
        "\n",
        "\n",
        "\n",
        "# Drop rows with NaN values\n",
        "\n",
        "\n",
        "\n",
        "# Check for missing values again\n",
        "print(\"Missing values:\\n\", df.isnull().sum())"
      ],
      "metadata": {
        "id": "6jOhgLu3n4tH"
      },
      "execution_count": null,
      "outputs": []
    },
    {
      "cell_type": "markdown",
      "source": [
        "This function sns.pairplot() creates scatter plots for each numerical feature (Size, Bedrooms, Bathrooms, Location, YearBuilt) against the target variable (Price)."
      ],
      "metadata": {
        "id": "AzHNfS31oqDh"
      }
    },
    {
      "cell_type": "code",
      "source": [
        "import matplotlib.pyplot as plt\n",
        "import seaborn as sns\n",
        "# Question 3:\n",
        "# Create plots to better understand the data\n",
        "\n"
      ],
      "metadata": {
        "id": "yFDdvVRhogX4"
      },
      "execution_count": null,
      "outputs": []
    },
    {
      "cell_type": "markdown",
      "source": [
        "## Predictive Modeling using Linear Regression"
      ],
      "metadata": {
        "id": "Lr9boItso52E"
      }
    },
    {
      "cell_type": "markdown",
      "source": [
        "- Split the Data\n",
        "- Train a Linear Regressor\n",
        "- Evaluate it on the test set using any metric of your choice"
      ],
      "metadata": {
        "id": "vAxt2xBXo_Gf"
      }
    },
    {
      "cell_type": "code",
      "source": [
        "from sklearn.model_selection import train_test_split\n",
        "from sklearn.linear_model import LinearRegression\n",
        "# Question 4:\n",
        "# Split the data into features (X) and target variable (y)\n",
        "\n",
        "\n",
        "\n",
        "# Split the data into training and testing sets\n",
        "\n",
        "\n",
        "\n",
        "# Fit a linear regression model\n",
        "\n"
      ],
      "metadata": {
        "id": "0omN-q4XpNwN"
      },
      "execution_count": null,
      "outputs": []
    },
    {
      "cell_type": "code",
      "source": [
        "from sklearn.metrics import mean_squared_error, r2_score\n",
        "\n",
        "# Question 5:\n",
        "# Evaluate the model on the test set\n",
        "\n",
        "\n",
        "# Calculate evaluation metrics\n",
        "\n",
        "\n",
        "\n",
        "# Print the evaluation metrics\n",
        "\n"
      ],
      "metadata": {
        "id": "27CwX0iIpVMF"
      },
      "execution_count": null,
      "outputs": []
    },
    {
      "cell_type": "markdown",
      "source": [
        "## Predictive Modeling using Logistic Regression"
      ],
      "metadata": {
        "id": "0Ds0ruILzSxP"
      }
    },
    {
      "cell_type": "markdown",
      "source": [
        "To utilize the same dataset for logistic regression, you need to transform the problem into a classification task. For example, you can introduce a threshold and classify the houses as \"expensive\" or \"affordable\" based on whether their prices are above or below the threshold. You can choose the threshold based on your dataset or specific requirements.\n",
        "\n",
        "Convert the target variable into a binary variable (0 or 1) representing the classes (e.g., 0 for affordable, 1 for expensive). Then, train a logistic regression model using the same features to classify houses as either affordable or expensive based on the chosen threshold."
      ],
      "metadata": {
        "id": "e11b3mySzi7Q"
      }
    },
    {
      "cell_type": "code",
      "source": [
        "\n",
        "from sklearn.linear_model import LogisticRegression\n",
        "from sklearn.metrics import accuracy_score, precision_score, recall_score, f1_score\n",
        "\n",
        "# Question 6:\n",
        "\n",
        "# Set the median as a threshold to classify houses as \"expensive\" or \"affordable\"\n",
        "\n",
        "\n",
        "# Transform the problem into a classification task\n",
        "df[\"Class\"] = df[\"Price\"].apply(lambda x: 1 if x >= threshold else 0)\n",
        "df = df.drop(\"Price\", axis=1)\n",
        "\n",
        "# Split the data into features (X) and target variable (y)\n",
        "\n",
        "\n",
        "\n",
        "\n",
        "# Split the data into training and testing sets\n",
        "X_train, X_test, y_train, y_test = train_test_split(X, y, test_size=0.2, random_state=42)\n",
        "\n",
        "# Fit a logistic regression model\n",
        "\n",
        "\n",
        "# Make predictions on the test set\n",
        "y_pred = classifier.predict(X_test)\n",
        "\n",
        "# Calculate evaluation metrics\n",
        "\n",
        "\n",
        "\n",
        "# Print the evaluation metrics\n",
        "print(\"Accuracy:\", accuracy)\n",
        "print(\"Precision:\", precision)\n",
        "print(\"Recall:\", recall)\n",
        "print(\"F1 score:\", f1)\n"
      ],
      "metadata": {
        "id": "niQ_7ItEzZ9i"
      },
      "execution_count": null,
      "outputs": []
    }
  ]
}