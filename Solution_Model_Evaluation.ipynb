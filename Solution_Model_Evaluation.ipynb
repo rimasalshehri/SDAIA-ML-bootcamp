{
  "nbformat": 4,
  "nbformat_minor": 0,
  "metadata": {
    "colab": {
      "provenance": [],
      "toc_visible": true
    },
    "kernelspec": {
      "name": "python3",
      "display_name": "Python 3"
    },
    "language_info": {
      "name": "python"
    }
  },
  "cells": [
    {
      "cell_type": "markdown",
      "metadata": {
        "id": "h4kIOHYlnyqs"
      },
      "source": [
        "#**Model Evaluation: Overcoming data-related challenges**\n",
        "---\n",
        "\n",
        "Case Study: Titanic Survival\n",
        "\n",
        "**Objective:** The objective of this notebook is to walk you through several concepts that we discussed through the course for evaluating and improving ML models. You will be building and evaluating several models that will predict if a person survived or not during the Titanic incidence.\n",
        "\n",
        "Doing that you will learn the importance of having the right data for your model"
      ]
    },
    {
      "cell_type": "markdown",
      "metadata": {
        "id": "HGj1r3fxojSr"
      },
      "source": [
        "The titanic.csv file contains data for 891 of the original Titanic passengers. Each row represents one person. The columns describe different attributes about the person including:\n",
        "* whether they survived (S),\n",
        "* their age (A),\n",
        "* their passenger-class (C),\n",
        "* their gender (G),\n",
        "* the fare they paid (X)."
      ]
    },
    {
      "cell_type": "markdown",
      "metadata": {
        "id": "C9RdVLjpk-hN"
      },
      "source": [
        "Evaluating ML models"
      ]
    },
    {
      "cell_type": "markdown",
      "metadata": {
        "id": "WYtfZRaHl2uM"
      },
      "source": [
        "In this section, we will be building and evaluating ML models."
      ]
    },
    {
      "cell_type": "markdown",
      "metadata": {
        "id": "2igl0cIT61t-"
      },
      "source": [
        "## Importing Needed Libraries:\n",
        "\n",
        "* numpy: for scientific computing\n",
        "* matplot: for plotting and visualization\n",
        "* pandas: for data reading and manipulation\n",
        "* sklearn.svm for Support Vector Machine Implementation\n",
        "\n",
        "\n"
      ]
    },
    {
      "cell_type": "code",
      "metadata": {
        "id": "HHL2azdc06yo"
      },
      "source": [
        "import numpy as np\n",
        "import matplotlib.pyplot as plt\n",
        "import pandas as pd\n",
        "\n",
        "from sklearn.svm import SVC\n",
        "from sklearn.metrics import accuracy_score\n",
        "from sklearn.model_selection import GridSearchCV"
      ],
      "execution_count": null,
      "outputs": []
    },
    {
      "cell_type": "markdown",
      "metadata": {
        "id": "Q6CWiia2DtZo"
      },
      "source": [
        "## Importing the Data"
      ]
    },
    {
      "cell_type": "code",
      "metadata": {
        "colab": {
          "base_uri": "https://localhost:8080/",
          "height": 206
        },
        "id": "Qzoy0u4CQ8bN",
        "outputId": "44a9073f-1a4d-415d-86e1-432105dd2a89"
      },
      "source": [
        "data = pd.read_csv('titanic.csv') #Read the Data from the Drive\n",
        "\n",
        "df = pd.DataFrame(data, columns= ['Survived', 'Pclass', 'Name', 'Age', 'Sex', 'Fare']) #Gets the specific data we need for our prediction\n",
        "df.replace(('male', 'female'), (0, 1), inplace=True) #Male is 0, Female is 1\n",
        "df.head() #Prints the first 5 rows of the data"
      ],
      "execution_count": null,
      "outputs": [
        {
          "output_type": "execute_result",
          "data": {
            "text/plain": [
              "   Survived  Pclass                                               Name   Age  \\\n",
              "0         0       3                            Braund, Mr. Owen Harris  22.0   \n",
              "1         1       1  Cumings, Mrs. John Bradley (Florence Briggs Th...  38.0   \n",
              "2         1       3                             Heikkinen, Miss. Laina  26.0   \n",
              "3         1       1       Futrelle, Mrs. Jacques Heath (Lily May Peel)  35.0   \n",
              "4         0       3                           Allen, Mr. William Henry  35.0   \n",
              "\n",
              "   Sex     Fare  \n",
              "0    0   7.2500  \n",
              "1    1  71.2833  \n",
              "2    1   7.9250  \n",
              "3    1  53.1000  \n",
              "4    0   8.0500  "
            ],
            "text/html": [
              "\n",
              "\n",
              "  <div id=\"df-e9ccade6-17c2-45d5-8cec-96cdfc6d3697\">\n",
              "    <div class=\"colab-df-container\">\n",
              "      <div>\n",
              "<style scoped>\n",
              "    .dataframe tbody tr th:only-of-type {\n",
              "        vertical-align: middle;\n",
              "    }\n",
              "\n",
              "    .dataframe tbody tr th {\n",
              "        vertical-align: top;\n",
              "    }\n",
              "\n",
              "    .dataframe thead th {\n",
              "        text-align: right;\n",
              "    }\n",
              "</style>\n",
              "<table border=\"1\" class=\"dataframe\">\n",
              "  <thead>\n",
              "    <tr style=\"text-align: right;\">\n",
              "      <th></th>\n",
              "      <th>Survived</th>\n",
              "      <th>Pclass</th>\n",
              "      <th>Name</th>\n",
              "      <th>Age</th>\n",
              "      <th>Sex</th>\n",
              "      <th>Fare</th>\n",
              "    </tr>\n",
              "  </thead>\n",
              "  <tbody>\n",
              "    <tr>\n",
              "      <th>0</th>\n",
              "      <td>0</td>\n",
              "      <td>3</td>\n",
              "      <td>Braund, Mr. Owen Harris</td>\n",
              "      <td>22.0</td>\n",
              "      <td>0</td>\n",
              "      <td>7.2500</td>\n",
              "    </tr>\n",
              "    <tr>\n",
              "      <th>1</th>\n",
              "      <td>1</td>\n",
              "      <td>1</td>\n",
              "      <td>Cumings, Mrs. John Bradley (Florence Briggs Th...</td>\n",
              "      <td>38.0</td>\n",
              "      <td>1</td>\n",
              "      <td>71.2833</td>\n",
              "    </tr>\n",
              "    <tr>\n",
              "      <th>2</th>\n",
              "      <td>1</td>\n",
              "      <td>3</td>\n",
              "      <td>Heikkinen, Miss. Laina</td>\n",
              "      <td>26.0</td>\n",
              "      <td>1</td>\n",
              "      <td>7.9250</td>\n",
              "    </tr>\n",
              "    <tr>\n",
              "      <th>3</th>\n",
              "      <td>1</td>\n",
              "      <td>1</td>\n",
              "      <td>Futrelle, Mrs. Jacques Heath (Lily May Peel)</td>\n",
              "      <td>35.0</td>\n",
              "      <td>1</td>\n",
              "      <td>53.1000</td>\n",
              "    </tr>\n",
              "    <tr>\n",
              "      <th>4</th>\n",
              "      <td>0</td>\n",
              "      <td>3</td>\n",
              "      <td>Allen, Mr. William Henry</td>\n",
              "      <td>35.0</td>\n",
              "      <td>0</td>\n",
              "      <td>8.0500</td>\n",
              "    </tr>\n",
              "  </tbody>\n",
              "</table>\n",
              "</div>\n",
              "      <button class=\"colab-df-convert\" onclick=\"convertToInteractive('df-e9ccade6-17c2-45d5-8cec-96cdfc6d3697')\"\n",
              "              title=\"Convert this dataframe to an interactive table.\"\n",
              "              style=\"display:none;\">\n",
              "\n",
              "  <svg xmlns=\"http://www.w3.org/2000/svg\" height=\"24px\"viewBox=\"0 0 24 24\"\n",
              "       width=\"24px\">\n",
              "    <path d=\"M0 0h24v24H0V0z\" fill=\"none\"/>\n",
              "    <path d=\"M18.56 5.44l.94 2.06.94-2.06 2.06-.94-2.06-.94-.94-2.06-.94 2.06-2.06.94zm-11 1L8.5 8.5l.94-2.06 2.06-.94-2.06-.94L8.5 2.5l-.94 2.06-2.06.94zm10 10l.94 2.06.94-2.06 2.06-.94-2.06-.94-.94-2.06-.94 2.06-2.06.94z\"/><path d=\"M17.41 7.96l-1.37-1.37c-.4-.4-.92-.59-1.43-.59-.52 0-1.04.2-1.43.59L10.3 9.45l-7.72 7.72c-.78.78-.78 2.05 0 2.83L4 21.41c.39.39.9.59 1.41.59.51 0 1.02-.2 1.41-.59l7.78-7.78 2.81-2.81c.8-.78.8-2.07 0-2.86zM5.41 20L4 18.59l7.72-7.72 1.47 1.35L5.41 20z\"/>\n",
              "  </svg>\n",
              "      </button>\n",
              "\n",
              "\n",
              "\n",
              "    <div id=\"df-3adc5f09-c4e7-4b85-b376-f2c1d7fbd14d\">\n",
              "      <button class=\"colab-df-quickchart\" onclick=\"quickchart('df-3adc5f09-c4e7-4b85-b376-f2c1d7fbd14d')\"\n",
              "              title=\"Suggest charts.\"\n",
              "              style=\"display:none;\">\n",
              "\n",
              "<svg xmlns=\"http://www.w3.org/2000/svg\" height=\"24px\"viewBox=\"0 0 24 24\"\n",
              "     width=\"24px\">\n",
              "    <g>\n",
              "        <path d=\"M19 3H5c-1.1 0-2 .9-2 2v14c0 1.1.9 2 2 2h14c1.1 0 2-.9 2-2V5c0-1.1-.9-2-2-2zM9 17H7v-7h2v7zm4 0h-2V7h2v10zm4 0h-2v-4h2v4z\"/>\n",
              "    </g>\n",
              "</svg>\n",
              "      </button>\n",
              "    </div>\n",
              "\n",
              "<style>\n",
              "  .colab-df-quickchart {\n",
              "    background-color: #E8F0FE;\n",
              "    border: none;\n",
              "    border-radius: 50%;\n",
              "    cursor: pointer;\n",
              "    display: none;\n",
              "    fill: #1967D2;\n",
              "    height: 32px;\n",
              "    padding: 0 0 0 0;\n",
              "    width: 32px;\n",
              "  }\n",
              "\n",
              "  .colab-df-quickchart:hover {\n",
              "    background-color: #E2EBFA;\n",
              "    box-shadow: 0px 1px 2px rgba(60, 64, 67, 0.3), 0px 1px 3px 1px rgba(60, 64, 67, 0.15);\n",
              "    fill: #174EA6;\n",
              "  }\n",
              "\n",
              "  [theme=dark] .colab-df-quickchart {\n",
              "    background-color: #3B4455;\n",
              "    fill: #D2E3FC;\n",
              "  }\n",
              "\n",
              "  [theme=dark] .colab-df-quickchart:hover {\n",
              "    background-color: #434B5C;\n",
              "    box-shadow: 0px 1px 3px 1px rgba(0, 0, 0, 0.15);\n",
              "    filter: drop-shadow(0px 1px 2px rgba(0, 0, 0, 0.3));\n",
              "    fill: #FFFFFF;\n",
              "  }\n",
              "</style>\n",
              "\n",
              "    <script>\n",
              "      async function quickchart(key) {\n",
              "        const containerElement = document.querySelector('#' + key);\n",
              "        const charts = await google.colab.kernel.invokeFunction(\n",
              "            'suggestCharts', [key], {});\n",
              "      }\n",
              "    </script>\n",
              "\n",
              "      <script>\n",
              "\n",
              "function displayQuickchartButton(domScope) {\n",
              "  let quickchartButtonEl =\n",
              "    domScope.querySelector('#df-3adc5f09-c4e7-4b85-b376-f2c1d7fbd14d button.colab-df-quickchart');\n",
              "  quickchartButtonEl.style.display =\n",
              "    google.colab.kernel.accessAllowed ? 'block' : 'none';\n",
              "}\n",
              "\n",
              "        displayQuickchartButton(document);\n",
              "      </script>\n",
              "      <style>\n",
              "    .colab-df-container {\n",
              "      display:flex;\n",
              "      flex-wrap:wrap;\n",
              "      gap: 12px;\n",
              "    }\n",
              "\n",
              "    .colab-df-convert {\n",
              "      background-color: #E8F0FE;\n",
              "      border: none;\n",
              "      border-radius: 50%;\n",
              "      cursor: pointer;\n",
              "      display: none;\n",
              "      fill: #1967D2;\n",
              "      height: 32px;\n",
              "      padding: 0 0 0 0;\n",
              "      width: 32px;\n",
              "    }\n",
              "\n",
              "    .colab-df-convert:hover {\n",
              "      background-color: #E2EBFA;\n",
              "      box-shadow: 0px 1px 2px rgba(60, 64, 67, 0.3), 0px 1px 3px 1px rgba(60, 64, 67, 0.15);\n",
              "      fill: #174EA6;\n",
              "    }\n",
              "\n",
              "    [theme=dark] .colab-df-convert {\n",
              "      background-color: #3B4455;\n",
              "      fill: #D2E3FC;\n",
              "    }\n",
              "\n",
              "    [theme=dark] .colab-df-convert:hover {\n",
              "      background-color: #434B5C;\n",
              "      box-shadow: 0px 1px 3px 1px rgba(0, 0, 0, 0.15);\n",
              "      filter: drop-shadow(0px 1px 2px rgba(0, 0, 0, 0.3));\n",
              "      fill: #FFFFFF;\n",
              "    }\n",
              "  </style>\n",
              "\n",
              "      <script>\n",
              "        const buttonEl =\n",
              "          document.querySelector('#df-e9ccade6-17c2-45d5-8cec-96cdfc6d3697 button.colab-df-convert');\n",
              "        buttonEl.style.display =\n",
              "          google.colab.kernel.accessAllowed ? 'block' : 'none';\n",
              "\n",
              "        async function convertToInteractive(key) {\n",
              "          const element = document.querySelector('#df-e9ccade6-17c2-45d5-8cec-96cdfc6d3697');\n",
              "          const dataTable =\n",
              "            await google.colab.kernel.invokeFunction('convertToInteractive',\n",
              "                                                     [key], {});\n",
              "          if (!dataTable) return;\n",
              "\n",
              "          const docLinkHtml = 'Like what you see? Visit the ' +\n",
              "            '<a target=\"_blank\" href=https://colab.research.google.com/notebooks/data_table.ipynb>data table notebook</a>'\n",
              "            + ' to learn more about interactive tables.';\n",
              "          element.innerHTML = '';\n",
              "          dataTable['output_type'] = 'display_data';\n",
              "          await google.colab.output.renderOutput(dataTable, element);\n",
              "          const docLink = document.createElement('div');\n",
              "          docLink.innerHTML = docLinkHtml;\n",
              "          element.appendChild(docLink);\n",
              "        }\n",
              "      </script>\n",
              "    </div>\n",
              "  </div>\n"
            ]
          },
          "metadata": {},
          "execution_count": 13
        }
      ]
    },
    {
      "cell_type": "markdown",
      "metadata": {
        "id": "VwNidHnCabf9"
      },
      "source": [
        "Know the shape of the data"
      ]
    },
    {
      "cell_type": "code",
      "metadata": {
        "colab": {
          "base_uri": "https://localhost:8080/"
        },
        "id": "zE57ADo7adjN",
        "outputId": "5d3c65bb-26fd-42f7-c2f8-52de04aa8f7c"
      },
      "source": [
        "df.shape"
      ],
      "execution_count": null,
      "outputs": [
        {
          "output_type": "execute_result",
          "data": {
            "text/plain": [
              "(891, 6)"
            ]
          },
          "metadata": {},
          "execution_count": 14
        }
      ]
    },
    {
      "cell_type": "markdown",
      "metadata": {
        "id": "nANZ53JMFiEI"
      },
      "source": [
        "## Data PreProcessing:\n"
      ]
    },
    {
      "cell_type": "markdown",
      "metadata": {
        "id": "rsQJgQYaaJ-9"
      },
      "source": [
        "Check for null values"
      ]
    },
    {
      "cell_type": "code",
      "metadata": {
        "colab": {
          "base_uri": "https://localhost:8080/"
        },
        "id": "820XhvxZaLzV",
        "outputId": "f17c0ef0-af67-4a10-c8ee-c1e1b794f45b"
      },
      "source": [
        "print(df.isnull().sum())"
      ],
      "execution_count": null,
      "outputs": [
        {
          "output_type": "stream",
          "name": "stdout",
          "text": [
            "Survived      0\n",
            "Pclass        0\n",
            "Name          0\n",
            "Age         177\n",
            "Sex           0\n",
            "Fare          0\n",
            "dtype: int64\n"
          ]
        }
      ]
    },
    {
      "cell_type": "markdown",
      "metadata": {
        "id": "rNu6p2adaCQc"
      },
      "source": [
        "Filling the null values"
      ]
    },
    {
      "cell_type": "code",
      "metadata": {
        "id": "DkXzusPraEPe"
      },
      "source": [
        "df['Age'].fillna(value = df['Age'].mean(), inplace=True)"
      ],
      "execution_count": null,
      "outputs": []
    },
    {
      "cell_type": "code",
      "metadata": {
        "colab": {
          "base_uri": "https://localhost:8080/"
        },
        "id": "lioNRsKFasik",
        "outputId": "ffced95c-eb79-4d00-de3c-4156a1cb1988"
      },
      "source": [
        "print(df.isnull().sum()) #make sure all nulls are removed"
      ],
      "execution_count": null,
      "outputs": [
        {
          "output_type": "stream",
          "name": "stdout",
          "text": [
            "Survived    0\n",
            "Pclass      0\n",
            "Name        0\n",
            "Age         0\n",
            "Sex         0\n",
            "Fare        0\n",
            "dtype: int64\n"
          ]
        }
      ]
    },
    {
      "cell_type": "markdown",
      "metadata": {
        "id": "zbv_gOVnaA3n"
      },
      "source": [
        "Data preprocessing involves dividing the data into attributes and labels."
      ]
    },
    {
      "cell_type": "code",
      "metadata": {
        "id": "HVx-78YZFC6O"
      },
      "source": [
        "x = df.drop(['Survived', 'Name'], axis = 1) #all the columns except the Name of the person and the target columns are being removed from the features data\n",
        "y = df['Survived']"
      ],
      "execution_count": null,
      "outputs": []
    },
    {
      "cell_type": "markdown",
      "metadata": {
        "id": "ntHzu8voX5Om"
      },
      "source": [
        "## K-fold Cross Validation\n",
        "We will be implementing k-Fold CV on a Linear and a Gaussian SVM on the dataset shown above.\n",
        "\n",
        "![image.png](data:image/png;base64,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)\n",
        "\n",
        "\n",
        "\n",
        "\n"
      ]
    },
    {
      "cell_type": "markdown",
      "metadata": {
        "id": "gfqPgqZx624F"
      },
      "source": [
        "\n",
        "\n",
        "\n",
        "For that, we will be using a 5-fold cross validation:"
      ]
    },
    {
      "cell_type": "code",
      "source": [
        "\n",
        "from sklearn.svm import SVC\n",
        "from sklearn.model_selection import cross_val_score\n",
        "from sklearn.model_selection import KFold\n",
        "\n",
        "\n",
        "# Create SVM classifiers for linear and Gaussian kernel\n",
        "linear_svm = SVC(kernel='linear')\n",
        "gaussian_svm = SVC(kernel='rbf')\n",
        "\n",
        "# Define the number of folds for cross-validation\n",
        "num_folds = 5\n",
        "\n",
        "# Create a cross-validation object\n",
        "kfold = KFold(n_splits=num_folds)\n",
        "\n",
        "# Lists to store the accuracies\n",
        "Lin_Accs = []\n",
        "Ker_Accs = []\n",
        "\n",
        "# Perform cross-validation for linear SVM\n",
        "linear_scores = cross_val_score(linear_svm, x, y, cv=kfold)\n",
        "Lin_Accs = linear_scores.tolist()\n",
        "\n",
        "# Perform cross-validation for Gaussian SVM\n",
        "gaussian_scores = cross_val_score(gaussian_svm, x, y, cv=kfold)\n",
        "Ker_Accs = gaussian_scores.tolist()\n",
        "\n",
        "# Print the accuracies for each fold\n",
        "print(\"Linear SVM accuracies:\")\n",
        "for i, score in enumerate(Lin_Accs):\n",
        "    print(f\"Fold {i+1}: {score}\")\n",
        "\n",
        "print(\"\\nGaussian SVM accuracies:\")\n",
        "for i, score in enumerate(Ker_Accs):\n",
        "    print(f\"Fold {i+1}: {score}\")\n"
      ],
      "metadata": {
        "colab": {
          "base_uri": "https://localhost:8080/"
        },
        "id": "kHkl4zweaifo",
        "outputId": "2c21e33b-ce0c-40f7-fea6-91787ffc6dd1"
      },
      "execution_count": null,
      "outputs": [
        {
          "output_type": "stream",
          "name": "stdout",
          "text": [
            "Linear SVM accuracies:\n",
            "Fold 1: 0.8156424581005587\n",
            "Fold 2: 0.797752808988764\n",
            "Fold 3: 0.7808988764044944\n",
            "Fold 4: 0.7359550561797753\n",
            "Fold 5: 0.8033707865168539\n",
            "\n",
            "Gaussian SVM accuracies:\n",
            "Fold 1: 0.5865921787709497\n",
            "Fold 2: 0.6741573033707865\n",
            "Fold 3: 0.6797752808988764\n",
            "Fold 4: 0.6685393258426966\n",
            "Fold 5: 0.7078651685393258\n"
          ]
        }
      ]
    },
    {
      "cell_type": "code",
      "source": [
        "print(\"Linear:\")\n",
        "print(\"The average accuracy for the Linear SVM is\", sum(Lin_Accs)/len(Lin_Accs))\n",
        "\n",
        "print(\"Kernel:\")\n",
        "print(\"The average accuracy for the Kernel SVM is\", sum(Ker_Accs)/len(Ker_Accs))"
      ],
      "metadata": {
        "colab": {
          "base_uri": "https://localhost:8080/"
        },
        "id": "dopFONpZbBJv",
        "outputId": "48779dd2-6244-4ba8-e4b0-76a110877dc9"
      },
      "execution_count": null,
      "outputs": [
        {
          "output_type": "stream",
          "name": "stdout",
          "text": [
            "Linear:\n",
            "The average accuracy for the Linear SVM is 0.7867239972380893\n",
            "Kernel:\n",
            "The average accuracy for the Kernel SVM is 0.663385851484527\n"
          ]
        }
      ]
    },
    {
      "cell_type": "markdown",
      "metadata": {
        "id": "9M_A82wF8kRo"
      },
      "source": [
        "We can see from the results above that the average accuracy of the Linear SVM is higher than the kernel SVM according to the k-fold CV."
      ]
    },
    {
      "cell_type": "markdown",
      "source": [
        "## Train & Test the models"
      ],
      "metadata": {
        "id": "yTKu0VPVdBDA"
      }
    },
    {
      "cell_type": "code",
      "source": [
        "from sklearn.model_selection import train_test_split\n",
        "\n",
        "# Split the data into training and testing sets\n",
        "X_train, X_test, y_train, y_test = train_test_split(x, y, test_size=0.2, random_state=42)\n",
        "\n",
        "# Train the models on the training data\n",
        "linear_svm.fit(X_train, y_train)\n",
        "gaussian_svm.fit(X_train, y_train)\n",
        "\n",
        "# Test the models on a new instance\n",
        "new_instance = pd.DataFrame([[1, 30, 0, 100]], columns=['Pclass', 'Age', 'Sex', 'Fare'])\n",
        "\n",
        "X_new = new_instance[['Age', 'Pclass', 'Sex', 'Fare']]  # Extract the attributes for prediction\n",
        "\n",
        "\n",
        "linear_prediction = linear_svm.predict(new_instance)\n",
        "gaussian_prediction = gaussian_svm.predict(new_instance)\n",
        "\n",
        "print(f\"Linear SVM prediction: {linear_prediction}\")\n",
        "print(f\"Gaussian SVM prediction: {gaussian_prediction}\")"
      ],
      "metadata": {
        "colab": {
          "base_uri": "https://localhost:8080/"
        },
        "id": "H0YAif0jdDGT",
        "outputId": "fa7dffc7-334a-4f42-e948-b559c9b46a7a"
      },
      "execution_count": null,
      "outputs": [
        {
          "output_type": "stream",
          "name": "stdout",
          "text": [
            "Linear SVM prediction: [0]\n",
            "Gaussian SVM prediction: [1]\n"
          ]
        }
      ]
    },
    {
      "cell_type": "markdown",
      "source": [
        "Test both models on same data but for a female passenger"
      ],
      "metadata": {
        "id": "pOYsG8k3eH5g"
      }
    },
    {
      "cell_type": "code",
      "source": [
        "# Test the models on a new instance\n",
        "new_instance = pd.DataFrame([[1, 30, 1, 100]], columns=['Pclass', 'Age', 'Sex', 'Fare'])\n",
        "\n",
        "X_new = new_instance[['Age', 'Pclass', 'Sex', 'Fare']]  # Extract the attributes for prediction\n",
        "\n",
        "\n",
        "linear_prediction = linear_svm.predict(new_instance)\n",
        "gaussian_prediction = gaussian_svm.predict(new_instance)\n",
        "\n",
        "print(f\"Linear SVM prediction: {linear_prediction}\")\n",
        "print(f\"Gaussian SVM prediction: {gaussian_prediction}\")"
      ],
      "metadata": {
        "colab": {
          "base_uri": "https://localhost:8080/"
        },
        "id": "ZUNlQ2cjeHTh",
        "outputId": "23fa47b1-3c2f-404b-bb63-282a41abe3e3"
      },
      "execution_count": null,
      "outputs": [
        {
          "output_type": "stream",
          "name": "stdout",
          "text": [
            "Linear SVM prediction: [1]\n",
            "Gaussian SVM prediction: [1]\n"
          ]
        }
      ]
    },
    {
      "cell_type": "markdown",
      "source": [
        "Yes, the Linear SVM is biased toward gender of passengers"
      ],
      "metadata": {
        "id": "AReneu1oeN6e"
      }
    }
  ]
}